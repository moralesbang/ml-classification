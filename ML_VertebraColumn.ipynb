{
  "nbformat": 4,
  "nbformat_minor": 0,
  "metadata": {
    "colab": {
      "name": "ML_VertebraColumn.ipynb",
      "provenance": [],
      "collapsed_sections": [],
      "include_colab_link": true
    },
    "kernelspec": {
      "name": "python3",
      "display_name": "Python 3"
    },
    "accelerator": "GPU"
  },
  "cells": [
    {
      "cell_type": "markdown",
      "metadata": {
        "id": "view-in-github",
        "colab_type": "text"
      },
      "source": [
        "<a href=\"https://colab.research.google.com/github/moralesbang/ml-classification/blob/master/ML_VertebraColumn.ipynb\" target=\"_parent\"><img src=\"https://colab.research.google.com/assets/colab-badge.svg\" alt=\"Open In Colab\"/></a>"
      ]
    },
    {
      "cell_type": "markdown",
      "metadata": {
        "id": "EDgqJp761IZ1",
        "colab_type": "text"
      },
      "source": [
        "## 1. Carga de librerías"
      ]
    },
    {
      "cell_type": "code",
      "metadata": {
        "id": "7NtXNgbu1Gxo",
        "colab_type": "code",
        "colab": {}
      },
      "source": [
        "import numpy as np\n",
        "import sklearn as sk\n",
        "from numpy import random, matlib\n",
        "from sklearn.model_selection import StratifiedKFold\n",
        "from sklearn.neighbors import KNeighborsClassifier\n",
        "from sklearn.model_selection import train_test_split\n",
        "from sklearn.neural_network import MLPClassifier\n",
        "from sklearn.ensemble import RandomForestClassifier\n",
        "from sklearn import preprocessing"
      ],
      "execution_count": 0,
      "outputs": []
    },
    {
      "cell_type": "markdown",
      "metadata": {
        "id": "WzN2iitRf2c3",
        "colab_type": "text"
      },
      "source": [
        "## 2. Carga de datos"
      ]
    },
    {
      "cell_type": "code",
      "metadata": {
        "id": "uZfk5OlApWZK",
        "colab_type": "code",
        "outputId": "199a738b-e1dc-4585-ba50-03b68ee5a415",
        "colab": {
          "base_uri": "https://localhost:8080/",
          "height": 35
        }
      },
      "source": [
        "from google.colab import drive\n",
        "drive.mount('/content/drive')"
      ],
      "execution_count": 78,
      "outputs": [
        {
          "output_type": "stream",
          "text": [
            "Drive already mounted at /content/drive; to attempt to forcibly remount, call drive.mount(\"/content/drive\", force_remount=True).\n"
          ],
          "name": "stdout"
        }
      ]
    },
    {
      "cell_type": "code",
      "metadata": {
        "id": "9h4jsGlPf9qw",
        "colab_type": "code",
        "colab": {}
      },
      "source": [
        "data_path = '/content/drive/My Drive/TrabajoSimulación/MachineLearning/column_3C.dat'\n",
        "X = np.loadtxt(data_path, usecols=np.arange(0, 6))\n",
        "Y = np.loadtxt(data_path, usecols=(6), dtype='str')\n",
        "\n",
        "# -- ENCODING CLASSES\n",
        "le = preprocessing.LabelEncoder()\n",
        "Y = le.fit_transform(Y)"
      ],
      "execution_count": 0,
      "outputs": []
    },
    {
      "cell_type": "markdown",
      "metadata": {
        "id": "S1q0kAc-uyGn",
        "colab_type": "text"
      },
      "source": [
        "## 3. Información de los datos\n"
      ]
    },
    {
      "cell_type": "code",
      "metadata": {
        "id": "e4tWZNShx1gb",
        "colab_type": "code",
        "outputId": "8df1cdd1-1fb7-4440-ea26-933b74d9a9e7",
        "colab": {
          "base_uri": "https://localhost:8080/",
          "height": 173
        }
      },
      "source": [
        "encoded_classes, counts = np.unique(Y, return_counts=True)\n",
        "print('INFORMACIÓN GENERAL')\n",
        "print('Número de muestras:', np.size(X, 0))\n",
        "print('Número de características', np.size(X, 1))\n",
        "print('Número de clases:', encoded_classes.size)\n",
        "\n",
        "# -- PRINTING NUMBER OF SAMPLES PER CLASS --\n",
        "print('\\nNÚMERO DE MUESTRAS POR CLASE')\n",
        "\n",
        "for i in range(0, encoded_classes.size):\n",
        "  print('Class', le.classes_[i], ':', counts[i])"
      ],
      "execution_count": 80,
      "outputs": [
        {
          "output_type": "stream",
          "text": [
            "INFORMACIÓN GENERAL\n",
            "Número de muestras: 310\n",
            "Número de características 6\n",
            "Número de clases: 3\n",
            "\n",
            "NÚMERO DE MUESTRAS POR CLASE\n",
            "Class DH : 60\n",
            "Class NO : 100\n",
            "Class SL : 150\n"
          ],
          "name": "stdout"
        }
      ]
    },
    {
      "cell_type": "markdown",
      "metadata": {
        "id": "McKglFrwIbco",
        "colab_type": "text"
      },
      "source": [
        "## 4. Algoritmos de clasificación"
      ]
    },
    {
      "cell_type": "markdown",
      "metadata": {
        "id": "abRNCfWfST0G",
        "colab_type": "text"
      },
      "source": [
        "### Helpers"
      ]
    },
    {
      "cell_type": "code",
      "metadata": {
        "id": "rRMgUbSFSYE_",
        "colab_type": "code",
        "colab": {}
      },
      "source": [
        "def validate(X, Y, classifier):\n",
        "  scores_train, scores_test = [], []\n",
        "  skf = StratifiedKFold(n_splits=3)\n",
        "\n",
        "  for train_index, test_index in skf.split(X, Y):\n",
        "    X_train, X_test = X[train_index], X[test_index]\n",
        "    Y_train, Y_test = Y[train_index], Y[test_index]\n",
        "\n",
        "    # Data normalizing\n",
        "    # WARN: Try StandardScaler!\n",
        "    X_train, X_test = preprocessing.scale(X_train), preprocessing.scale(X_test)\n",
        "\n",
        "    classifier.fit(X_train, Y_train.ravel())\n",
        "\n",
        "    score_train = classifier.score(X_train, Y_train.ravel())\n",
        "    score_test = classifier.score(X_test, Y_test.ravel())\n",
        "\n",
        "    scores_train.append(score_train)\n",
        "    scores_test.append(score_test)\n",
        "\n",
        "  train_accuracy, test_accuracy = np.mean(scores_train), np.mean(scores_test)\n",
        "\n",
        "  return train_accuracy, test_accuracy"
      ],
      "execution_count": 0,
      "outputs": []
    },
    {
      "cell_type": "markdown",
      "metadata": {
        "id": "ZPaJB5yUMj_q",
        "colab_type": "text"
      },
      "source": [
        "### 4.1. Naive Bayes\n"
      ]
    },
    {
      "cell_type": "code",
      "metadata": {
        "id": "GzWCDHd9CG7k",
        "colab_type": "code",
        "colab": {
          "base_uri": "https://localhost:8080/",
          "height": 52
        },
        "outputId": "35985f43-1b5a-4854-9666-bb42225c1c81"
      },
      "source": [
        "from sklearn.naive_bayes import GaussianNB\n",
        "\n",
        "def nb_experiment(X, Y):\n",
        "  clf = GaussianNB()\n",
        "  return validate(X, Y, clf)\n",
        "\n",
        "train_accuracy, test_accuracy = nb_experiment(X, Y)\n",
        "print('Training Accuracy:\\t', train_accuracy)\n",
        "print('Testing Accuracy:\\t', test_accuracy)"
      ],
      "execution_count": 82,
      "outputs": [
        {
          "output_type": "stream",
          "text": [
            "Training Accuracy:\t 0.8419633225458468\n",
            "Testing Accuracy:\t 0.8323375653472741\n"
          ],
          "name": "stdout"
        }
      ]
    },
    {
      "cell_type": "markdown",
      "metadata": {
        "id": "J6Q6h4rqNhFv",
        "colab_type": "text"
      },
      "source": [
        "### 4.2. KNN (k-nearest neighbors algorithm )"
      ]
    },
    {
      "cell_type": "code",
      "metadata": {
        "id": "jcr2WIb7OOEM",
        "colab_type": "code",
        "colab": {}
      },
      "source": [
        "def knn_experiment(X, Y, k=5):\n",
        "  clf = KNeighborsClassifier(n_neighbors = k) # n_neighbors = 5 by default\n",
        "  return validate(X, Y, clf)"
      ],
      "execution_count": 0,
      "outputs": []
    },
    {
      "cell_type": "markdown",
      "metadata": {
        "id": "e5vXmHEz63Bn",
        "colab_type": "text"
      },
      "source": [
        "### 4.1.1. Parámetros más óptimos"
      ]
    },
    {
      "cell_type": "code",
      "metadata": {
        "id": "Ytq6ZQ4VWyRT",
        "colab_type": "code",
        "outputId": "67852172-26d1-4bc1-88ae-606cffa7f715",
        "colab": {
          "base_uri": "https://localhost:8080/",
          "height": 69
        }
      },
      "source": [
        "accuracy = []\n",
        "\n",
        "for k in range(3, 16): # -- TESTING FOR DIFFERENT VALUES OF K --\n",
        "    train_accuracy, test_accuracy = knn_experiment(X, Y, k)\n",
        "    accuracy.append([train_accuracy, test_accuracy, k])\n",
        "    \n",
        "accuracy_matrix  = np.array(accuracy)\n",
        "most_accurate_index = np.argmax(accuracy_matrix[:, 1])\n",
        "most_accurate = accuracy[most_accurate_index]\n",
        "\n",
        "print('Maximum Training Accuracy:\\t', most_accurate[0])\n",
        "print('Maximum Testing Accuracy:\\t', most_accurate[1])\n",
        "print('Value of K:\\t\\t\\t', int(most_accurate[2]))"
      ],
      "execution_count": 48,
      "outputs": [
        {
          "output_type": "stream",
          "text": [
            "Maximum Training Accuracy:\t 0.8339274267936151\n",
            "Maximum Testing Accuracy:\t 0.8001929300472991\n",
            "Value of K:\t\t\t 6\n"
          ],
          "name": "stdout"
        }
      ]
    },
    {
      "cell_type": "markdown",
      "metadata": {
        "id": "PJMqkCo3amk_",
        "colab_type": "text"
      },
      "source": [
        "### 4.3. Redes Neuronales Artificiales\n"
      ]
    },
    {
      "cell_type": "code",
      "metadata": {
        "id": "HRK70PVObBtK",
        "colab_type": "code",
        "colab": {}
      },
      "source": [
        "# random.seed(19680801)\n",
        "\n",
        "def ann_experiment(X, Y):\n",
        "  epochs = 2500\n",
        "  neurons = 12\n",
        "  mlp = MLPClassifier(hidden_layer_sizes=(neurons,), activation='logistic', max_iter=epochs)\n",
        "  return validate(X, Y, mlp)"
      ],
      "execution_count": 0,
      "outputs": []
    },
    {
      "cell_type": "markdown",
      "metadata": {
        "id": "K6oVvif_aRd8",
        "colab_type": "text"
      },
      "source": [
        "### 4.4. Random Forest"
      ]
    },
    {
      "cell_type": "code",
      "metadata": {
        "id": "mK322oJqaU1e",
        "colab_type": "code",
        "colab": {}
      },
      "source": [
        "def rf_experiment(X, Y, n_estimators, max_features):\n",
        "  clf = RandomForestClassifier(n_estimators=n_estimators, max_features=max_features)\n",
        "  return validate(X, Y, clf)"
      ],
      "execution_count": 0,
      "outputs": []
    },
    {
      "cell_type": "markdown",
      "metadata": {
        "id": "aCiRSrXpcMpS",
        "colab_type": "text"
      },
      "source": [
        "### 4.4.1. Parámetros más óptimos"
      ]
    },
    {
      "cell_type": "code",
      "metadata": {
        "id": "9AJ3aPRAcPTx",
        "colab_type": "code",
        "colab": {
          "base_uri": "https://localhost:8080/",
          "height": 69
        },
        "outputId": "581e406f-d23f-434a-ed60-3f8c1ed909a9"
      },
      "source": [
        "accuracy = []\n",
        "for n_estimators in [5, 10, 20, 50, 100]:\n",
        "  train_accuracy, test_accuracy = rf_experiment(X, Y, n_estimators, 'auto')\n",
        "  accuracy.append([train_accuracy, test_accuracy, n_estimators])\n",
        "    \n",
        "accuracy_matrix  = np.array(accuracy)\n",
        "most_accurate_index = np.argmax(accuracy_matrix[:, 1])\n",
        "most_accurate = accuracy[most_accurate_index]\n",
        "\n",
        "print('Maximum Training Accuracy:\\t', most_accurate[0])\n",
        "print('Maximum Testing Accuracy:\\t', most_accurate[1])\n",
        "print('Number of estimators:\\t\\t', most_accurate[2])\n",
        "# print('Number of max features:\\t\\t\\t', most_accurate[3])"
      ],
      "execution_count": 124,
      "outputs": [
        {
          "output_type": "stream",
          "text": [
            "Maximum Training Accuracy:\t 0.9967715710645217\n",
            "Maximum Testing Accuracy:\t 0.8419218322130942\n",
            "Number of estimators:\t\t 20\n"
          ],
          "name": "stdout"
        }
      ]
    }
  ]
}